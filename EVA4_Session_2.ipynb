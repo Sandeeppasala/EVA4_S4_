{
  "nbformat": 4,
  "nbformat_minor": 0,
  "metadata": {
    "colab": {
      "name": "EVA4 - Session 2.ipynb",
      "provenance": [],
      "include_colab_link": true
    },
    "kernelspec": {
      "name": "python3",
      "display_name": "Python 3"
    },
    "accelerator": "GPU"
  },
  "cells": [
    {
      "cell_type": "markdown",
      "metadata": {
        "id": "view-in-github",
        "colab_type": "text"
      },
      "source": [
        "<a href=\"https://colab.research.google.com/github/Sandeeppasala/S4-Assignment-Solution/blob/master/EVA4_Session_2.ipynb\" target=\"_parent\"><img src=\"https://colab.research.google.com/assets/colab-badge.svg\" alt=\"Open In Colab\"/></a>"
      ]
    },
    {
      "cell_type": "code",
      "metadata": {
        "id": "0m2JWFliFfKT",
        "colab_type": "code",
        "colab": {}
      },
      "source": [
        "#import all the needed libraries\n",
        "from __future__ import print_function\n",
        "import torch\n",
        "import torch.nn as nn\n",
        "import torch.nn.functional as F\n",
        "import torch.optim as optim\n",
        "from torchvision import datasets, transforms"
      ],
      "execution_count": 0,
      "outputs": []
    },
    {
      "cell_type": "code",
      "metadata": {
        "id": "h_Cx9q2QFgM7",
        "colab_type": "code",
        "colab": {}
      },
      "source": [
        "class Net(nn.Module):\n",
        "    def __init__(self):\n",
        "        super(Net, self).__init__()\n",
        "        self.conv1 = nn.Conv2d(1, 16, 3, padding=1)   # input 28x28x2  -> output 28x28x16 2D Convolution \n",
        "        self.bn1 = nn.BatchNorm2d(16)                 # input 28x28x16 2D Batch Normalization\n",
        "        self.conv2 = nn.Conv2d(16, 16, 3, padding=1)  # input 28x28x16 -> output 28x28x16 2D Convolution\n",
        "        self.bn2 = nn.BatchNorm2d(16)                 # input 28x28x16 2D Batch Normalization\n",
        "        self.pool1 = nn.MaxPool2d(2, 2)               # input 28x28x16 -> output 14x14x16 Max Pooling\n",
        "        self.conv3 = nn.Conv2d(16, 16, 3, padding=1)  # input 14x14x16 -> output 14x14x16 2D Convolution\n",
        "        self.bn3 = nn.BatchNorm2d(16)                 # input 14x14x16 2D Batch Normalization\n",
        "        self.conv4 = nn.Conv2d(16, 16, 3, padding=1)  # input 14x14x16 -> output 14x14x16 2D Convolution\n",
        "        self.bn4 = nn.BatchNorm2d(16)                 # input 14x14x16 2D Batch Normalization\n",
        "        self.pool2 = nn.MaxPool2d(2, 2)               # input 14x14x16 -> output 7x7x16 Max Pooling\n",
        "        self.conv5 = nn.Conv2d(16, 16, 3)             # input 7x7x16 -> output 5x5x16 2D Convolution\n",
        "        self.bn5 = nn.BatchNorm2d(16)                 # input 5x5x16 2D Batch Normalization\n",
        "        self.conv6 = nn.Conv2d(16, 16, 3)             # input 5x5x16 -> output 3x3x16 2D Convolution\n",
        "        self.bn6 = nn.BatchNorm2d(16)                 # input 3x3x16 2D Batch Normalization\n",
        "        self.conv7 = nn.Conv2d(16, 10, 3)             # input 3x3x16 -> output 1x1x10\n",
        "        self.dout = nn.Dropout(p=0.25)                 # Drop Out\n",
        "\n",
        "#calculate Convolution apply RELU apply Batch Normalization\n",
        "#Drop out is applied after maxpooling.\n",
        "\n",
        "    def forward(self, x):\n",
        "        x = self.pool1(self.bn2(F.relu(self.conv2(self.bn1(F.relu(self.conv1(x)))))))\n",
        "        x = self.dout(x)\n",
        "        x = self.pool2(self.bn4(F.relu(self.conv4(self.bn3(F.relu(self.conv3(x)))))))\n",
        "        x = self.dout(x)\n",
        "        x = self.bn6(F.relu(self.conv6(self.bn5(F.relu(self.conv5(x))))))\n",
        "        x = self.conv7(x)\n",
        "        x = self.dout(x)\n",
        "        x = x.view(-1, 10)\n",
        "        return F.log_softmax(x)     # Softmax to return the final value."
      ],
      "execution_count": 0,
      "outputs": []
    },
    {
      "cell_type": "code",
      "metadata": {
        "colab_type": "code",
        "id": "xdydjYTZFyi3",
        "outputId": "d0838631-32fd-4719-a78a-7ee70641122f",
        "colab": {
          "base_uri": "https://localhost:8080/",
          "height": 598
        }
      },
      "source": [
        "!pip install torchsummary\n",
        "from torchsummary import summary\n",
        "use_cuda = torch.cuda.is_available()\n",
        "device = torch.device(\"cuda\" if use_cuda else \"cpu\")\n",
        "model = Net().to(device)\n",
        "summary(model, input_size=(1, 28, 28))\n",
        "\n",
        "#After reducing the channels to 16 the model parameters were reduced to 13K"
      ],
      "execution_count": 3,
      "outputs": [
        {
          "output_type": "stream",
          "text": [
            "Requirement already satisfied: torchsummary in /usr/local/lib/python3.6/dist-packages (1.5.1)\n",
            "----------------------------------------------------------------\n",
            "        Layer (type)               Output Shape         Param #\n",
            "================================================================\n",
            "            Conv2d-1           [-1, 16, 28, 28]             160\n",
            "       BatchNorm2d-2           [-1, 16, 28, 28]              32\n",
            "            Conv2d-3           [-1, 16, 28, 28]           2,320\n",
            "       BatchNorm2d-4           [-1, 16, 28, 28]              32\n",
            "         MaxPool2d-5           [-1, 16, 14, 14]               0\n",
            "           Dropout-6           [-1, 16, 14, 14]               0\n",
            "            Conv2d-7           [-1, 16, 14, 14]           2,320\n",
            "       BatchNorm2d-8           [-1, 16, 14, 14]              32\n",
            "            Conv2d-9           [-1, 16, 14, 14]           2,320\n",
            "      BatchNorm2d-10           [-1, 16, 14, 14]              32\n",
            "        MaxPool2d-11             [-1, 16, 7, 7]               0\n",
            "          Dropout-12             [-1, 16, 7, 7]               0\n",
            "           Conv2d-13             [-1, 16, 5, 5]           2,320\n",
            "      BatchNorm2d-14             [-1, 16, 5, 5]              32\n",
            "           Conv2d-15             [-1, 16, 3, 3]           2,320\n",
            "      BatchNorm2d-16             [-1, 16, 3, 3]              32\n",
            "           Conv2d-17             [-1, 10, 1, 1]           1,450\n",
            "          Dropout-18             [-1, 10, 1, 1]               0\n",
            "================================================================\n",
            "Total params: 13,402\n",
            "Trainable params: 13,402\n",
            "Non-trainable params: 0\n",
            "----------------------------------------------------------------\n",
            "Input size (MB): 0.00\n",
            "Forward/backward pass size (MB): 0.55\n",
            "Params size (MB): 0.05\n",
            "Estimated Total Size (MB): 0.60\n",
            "----------------------------------------------------------------\n"
          ],
          "name": "stdout"
        },
        {
          "output_type": "stream",
          "text": [
            "/usr/local/lib/python3.6/dist-packages/ipykernel_launcher.py:33: UserWarning: Implicit dimension choice for log_softmax has been deprecated. Change the call to include dim=X as an argument.\n"
          ],
          "name": "stderr"
        }
      ]
    },
    {
      "cell_type": "code",
      "metadata": {
        "id": "DqTWLaM5GHgH",
        "colab_type": "code",
        "colab": {}
      },
      "source": [
        "\n",
        "\n",
        "torch.manual_seed(1)\n",
        "batch_size = 128\n",
        "\n",
        "kwargs = {'num_workers': 1, 'pin_memory': True} if use_cuda else {}\n",
        "train_loader = torch.utils.data.DataLoader(\n",
        "    datasets.MNIST('../data', train=True, download=True,\n",
        "                    transform=transforms.Compose([\n",
        "                        transforms.ToTensor(),\n",
        "                        transforms.Normalize((0.1307,), (0.3081,))\n",
        "                    ])),\n",
        "    batch_size=batch_size, shuffle=True, **kwargs)\n",
        "test_loader = torch.utils.data.DataLoader(\n",
        "    datasets.MNIST('../data', train=False, transform=transforms.Compose([\n",
        "                        transforms.ToTensor(),\n",
        "                        transforms.Normalize((0.1307,), (0.3081,))\n",
        "                    ])),\n",
        "    batch_size=batch_size, shuffle=True, **kwargs)\n"
      ],
      "execution_count": 0,
      "outputs": []
    },
    {
      "cell_type": "code",
      "metadata": {
        "id": "8fDefDhaFlwH",
        "colab_type": "code",
        "colab": {}
      },
      "source": [
        "from tqdm import tqdm\n",
        "def train(model, device, train_loader, optimizer, epoch):\n",
        "    model.train()\n",
        "    pbar = tqdm(train_loader)\n",
        "    for batch_idx, (data, target) in enumerate(pbar):\n",
        "        data, target = data.to(device), target.to(device)\n",
        "        optimizer.zero_grad()\n",
        "        output = model(data)\n",
        "        loss = F.nll_loss(output, target)\n",
        "        loss.backward()\n",
        "        optimizer.step()\n",
        "        pbar.set_description(desc= f'loss={loss.item()} batch_id={batch_idx}')\n",
        "\n",
        "\n",
        "def test(model, device, test_loader):\n",
        "    model.eval()\n",
        "    test_loss = 0\n",
        "    correct = 0\n",
        "    with torch.no_grad():\n",
        "        for data, target in test_loader:\n",
        "            data, target = data.to(device), target.to(device)\n",
        "            output = model(data)\n",
        "            test_loss += F.nll_loss(output, target, reduction='sum').item()  # sum up batch loss\n",
        "            pred = output.argmax(dim=1, keepdim=True)  # get the index of the max log-probability\n",
        "            correct += pred.eq(target.view_as(pred)).sum().item()\n",
        "\n",
        "    test_loss /= len(test_loader.dataset)\n",
        "\n",
        "    print('\\nTest set: Average loss: {:.4f}, Accuracy: {}/{} ({:.2f}%)\\n'.format(\n",
        "        test_loss, correct, len(test_loader.dataset),\n",
        "        100. * correct / len(test_loader.dataset)))"
      ],
      "execution_count": 0,
      "outputs": []
    },
    {
      "cell_type": "code",
      "metadata": {
        "id": "MMWbLWO6FuHb",
        "colab_type": "code",
        "outputId": "09baa08b-f1a3-4b9e-d5aa-3976fddc3c83",
        "colab": {
          "base_uri": "https://localhost:8080/",
          "height": 1000
        }
      },
      "source": [
        "\n",
        "model = Net().to(device)\n",
        "optimizer = optim.SGD(model.parameters(), lr=0.01, momentum=0.9)\n",
        "\n",
        "#Epoch = 20  Accuracy acheived = 99.48%\n",
        "\n",
        "for epoch in range(1, 20):\n",
        "    train(model, device, train_loader, optimizer, epoch)\n",
        "    test(model, device, test_loader)"
      ],
      "execution_count": 6,
      "outputs": [
        {
          "output_type": "stream",
          "text": [
            "  0%|          | 0/469 [00:00<?, ?it/s]/usr/local/lib/python3.6/dist-packages/ipykernel_launcher.py:33: UserWarning: Implicit dimension choice for log_softmax has been deprecated. Change the call to include dim=X as an argument.\n",
            "loss=0.4149937927722931 batch_id=468: 100%|██████████| 469/469 [00:12<00:00, 37.58it/s]\n",
            "  0%|          | 0/469 [00:00<?, ?it/s]"
          ],
          "name": "stderr"
        },
        {
          "output_type": "stream",
          "text": [
            "\n",
            "Test set: Average loss: 0.0503, Accuracy: 9854/10000 (98.54%)\n",
            "\n"
          ],
          "name": "stdout"
        },
        {
          "output_type": "stream",
          "text": [
            "loss=0.41172850131988525 batch_id=468: 100%|██████████| 469/469 [00:12<00:00, 39.06it/s]\n",
            "  0%|          | 0/469 [00:00<?, ?it/s]"
          ],
          "name": "stderr"
        },
        {
          "output_type": "stream",
          "text": [
            "\n",
            "Test set: Average loss: 0.0353, Accuracy: 9889/10000 (98.89%)\n",
            "\n"
          ],
          "name": "stdout"
        },
        {
          "output_type": "stream",
          "text": [
            "loss=0.3732462227344513 batch_id=468: 100%|██████████| 469/469 [00:11<00:00, 39.40it/s]\n",
            "  0%|          | 0/469 [00:00<?, ?it/s]"
          ],
          "name": "stderr"
        },
        {
          "output_type": "stream",
          "text": [
            "\n",
            "Test set: Average loss: 0.0315, Accuracy: 9911/10000 (99.11%)\n",
            "\n"
          ],
          "name": "stdout"
        },
        {
          "output_type": "stream",
          "text": [
            "loss=0.39841508865356445 batch_id=468: 100%|██████████| 469/469 [00:12<00:00, 37.56it/s]\n",
            "  0%|          | 0/469 [00:00<?, ?it/s]"
          ],
          "name": "stderr"
        },
        {
          "output_type": "stream",
          "text": [
            "\n",
            "Test set: Average loss: 0.0279, Accuracy: 9911/10000 (99.11%)\n",
            "\n"
          ],
          "name": "stdout"
        },
        {
          "output_type": "stream",
          "text": [
            "loss=0.374094158411026 batch_id=468: 100%|██████████| 469/469 [00:12<00:00, 39.08it/s]\n",
            "  0%|          | 0/469 [00:00<?, ?it/s]"
          ],
          "name": "stderr"
        },
        {
          "output_type": "stream",
          "text": [
            "\n",
            "Test set: Average loss: 0.0233, Accuracy: 9930/10000 (99.30%)\n",
            "\n"
          ],
          "name": "stdout"
        },
        {
          "output_type": "stream",
          "text": [
            "loss=0.16752026975154877 batch_id=468: 100%|██████████| 469/469 [00:11<00:00, 39.44it/s]\n",
            "  0%|          | 0/469 [00:00<?, ?it/s]"
          ],
          "name": "stderr"
        },
        {
          "output_type": "stream",
          "text": [
            "\n",
            "Test set: Average loss: 0.0232, Accuracy: 9929/10000 (99.29%)\n",
            "\n"
          ],
          "name": "stdout"
        },
        {
          "output_type": "stream",
          "text": [
            "loss=0.27481362223625183 batch_id=468: 100%|██████████| 469/469 [00:12<00:00, 38.05it/s]\n",
            "  0%|          | 0/469 [00:00<?, ?it/s]"
          ],
          "name": "stderr"
        },
        {
          "output_type": "stream",
          "text": [
            "\n",
            "Test set: Average loss: 0.0240, Accuracy: 9916/10000 (99.16%)\n",
            "\n"
          ],
          "name": "stdout"
        },
        {
          "output_type": "stream",
          "text": [
            "loss=0.34625479578971863 batch_id=468: 100%|██████████| 469/469 [00:12<00:00, 36.81it/s]\n",
            "  0%|          | 0/469 [00:00<?, ?it/s]"
          ],
          "name": "stderr"
        },
        {
          "output_type": "stream",
          "text": [
            "\n",
            "Test set: Average loss: 0.0219, Accuracy: 9929/10000 (99.29%)\n",
            "\n"
          ],
          "name": "stdout"
        },
        {
          "output_type": "stream",
          "text": [
            "loss=0.32775238156318665 batch_id=468: 100%|██████████| 469/469 [00:11<00:00, 39.35it/s]\n",
            "  0%|          | 0/469 [00:00<?, ?it/s]"
          ],
          "name": "stderr"
        },
        {
          "output_type": "stream",
          "text": [
            "\n",
            "Test set: Average loss: 0.0227, Accuracy: 9934/10000 (99.34%)\n",
            "\n"
          ],
          "name": "stdout"
        },
        {
          "output_type": "stream",
          "text": [
            "loss=0.4953049421310425 batch_id=468: 100%|██████████| 469/469 [00:11<00:00, 39.21it/s]\n",
            "  0%|          | 0/469 [00:00<?, ?it/s]"
          ],
          "name": "stderr"
        },
        {
          "output_type": "stream",
          "text": [
            "\n",
            "Test set: Average loss: 0.0233, Accuracy: 9922/10000 (99.22%)\n",
            "\n"
          ],
          "name": "stdout"
        },
        {
          "output_type": "stream",
          "text": [
            "loss=0.3932684659957886 batch_id=468: 100%|██████████| 469/469 [00:12<00:00, 37.51it/s]\n",
            "  0%|          | 0/469 [00:00<?, ?it/s]"
          ],
          "name": "stderr"
        },
        {
          "output_type": "stream",
          "text": [
            "\n",
            "Test set: Average loss: 0.0213, Accuracy: 9924/10000 (99.24%)\n",
            "\n"
          ],
          "name": "stdout"
        },
        {
          "output_type": "stream",
          "text": [
            "loss=0.3913687467575073 batch_id=468: 100%|██████████| 469/469 [00:12<00:00, 37.90it/s]\n",
            "  0%|          | 0/469 [00:00<?, ?it/s]"
          ],
          "name": "stderr"
        },
        {
          "output_type": "stream",
          "text": [
            "\n",
            "Test set: Average loss: 0.0226, Accuracy: 9928/10000 (99.28%)\n",
            "\n"
          ],
          "name": "stdout"
        },
        {
          "output_type": "stream",
          "text": [
            "loss=0.26261648535728455 batch_id=468: 100%|██████████| 469/469 [00:12<00:00, 36.10it/s]\n",
            "  0%|          | 0/469 [00:00<?, ?it/s]"
          ],
          "name": "stderr"
        },
        {
          "output_type": "stream",
          "text": [
            "\n",
            "Test set: Average loss: 0.0194, Accuracy: 9938/10000 (99.38%)\n",
            "\n"
          ],
          "name": "stdout"
        },
        {
          "output_type": "stream",
          "text": [
            "loss=0.42110657691955566 batch_id=468: 100%|██████████| 469/469 [00:12<00:00, 36.93it/s]\n",
            "  0%|          | 0/469 [00:00<?, ?it/s]"
          ],
          "name": "stderr"
        },
        {
          "output_type": "stream",
          "text": [
            "\n",
            "Test set: Average loss: 0.0209, Accuracy: 9933/10000 (99.33%)\n",
            "\n"
          ],
          "name": "stdout"
        },
        {
          "output_type": "stream",
          "text": [
            "loss=0.3362914025783539 batch_id=468: 100%|██████████| 469/469 [00:13<00:00, 35.76it/s]\n",
            "  0%|          | 0/469 [00:00<?, ?it/s]"
          ],
          "name": "stderr"
        },
        {
          "output_type": "stream",
          "text": [
            "\n",
            "Test set: Average loss: 0.0186, Accuracy: 9940/10000 (99.40%)\n",
            "\n"
          ],
          "name": "stdout"
        },
        {
          "output_type": "stream",
          "text": [
            "loss=0.3776099979877472 batch_id=468: 100%|██████████| 469/469 [00:12<00:00, 37.38it/s]\n",
            "  0%|          | 0/469 [00:00<?, ?it/s]"
          ],
          "name": "stderr"
        },
        {
          "output_type": "stream",
          "text": [
            "\n",
            "Test set: Average loss: 0.0166, Accuracy: 9947/10000 (99.47%)\n",
            "\n"
          ],
          "name": "stdout"
        },
        {
          "output_type": "stream",
          "text": [
            "loss=0.1764369010925293 batch_id=468: 100%|██████████| 469/469 [00:12<00:00, 39.58it/s]\n",
            "  0%|          | 0/469 [00:00<?, ?it/s]"
          ],
          "name": "stderr"
        },
        {
          "output_type": "stream",
          "text": [
            "\n",
            "Test set: Average loss: 0.0176, Accuracy: 9939/10000 (99.39%)\n",
            "\n"
          ],
          "name": "stdout"
        },
        {
          "output_type": "stream",
          "text": [
            "loss=0.20160233974456787 batch_id=468: 100%|██████████| 469/469 [00:13<00:00, 35.78it/s]\n",
            "  0%|          | 0/469 [00:00<?, ?it/s]"
          ],
          "name": "stderr"
        },
        {
          "output_type": "stream",
          "text": [
            "\n",
            "Test set: Average loss: 0.0170, Accuracy: 9949/10000 (99.49%)\n",
            "\n"
          ],
          "name": "stdout"
        },
        {
          "output_type": "stream",
          "text": [
            "loss=0.4067247807979584 batch_id=468: 100%|██████████| 469/469 [00:13<00:00, 34.65it/s]\n"
          ],
          "name": "stderr"
        },
        {
          "output_type": "stream",
          "text": [
            "\n",
            "Test set: Average loss: 0.0200, Accuracy: 9944/10000 (99.44%)\n",
            "\n"
          ],
          "name": "stdout"
        }
      ]
    },
    {
      "cell_type": "code",
      "metadata": {
        "id": "So5uk4EkHW6R",
        "colab_type": "code",
        "colab": {}
      },
      "source": [
        ""
      ],
      "execution_count": 0,
      "outputs": []
    }
  ]
}